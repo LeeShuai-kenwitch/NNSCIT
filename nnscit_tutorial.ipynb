{
 "cells": [
  {
   "cell_type": "markdown",
   "id": "a786da79",
   "metadata": {},
   "source": [
    "This notebook provides a simple example of conditional independence test with NNSCIT method."
   ]
  },
  {
   "cell_type": "code",
   "execution_count": null,
   "id": "f74b4f68",
   "metadata": {},
   "outputs": [],
   "source": [
    "from datetime import datetime \n",
    "from utils import *\n",
    "from nnscit import *\n",
    "\n",
    "X, Y, Z = generate_samples_random(size=999,sType='CI',dx=1,dy=1,dz=10,fixed_function='linear',normalize=False, dist_z ='laplace', debug=True)\n",
    "\n",
    "alpha = 0.05\n",
    "s_t = datetime.now()\n",
    "p_value = GMCIT(X, Y, Z)\n",
    "print(\"--- The nnscit takes %s seconds, the pvalue is %f ---\" % ((datetime.now() - s_t), p_value))\n",
    "\n",
    "\n",
    "if p_value < alpha/2:\n",
    "    print('p-value is',p_value,'- There is enough evidence in the data to reject the null hypothesis.')\n",
    "else:\n",
    "    print('p-value is',p_value,'- There is not enough evidence in the data to reject the null hypothesis.')"
   ]
  }
 ],
 "metadata": {
  "kernelspec": {
   "display_name": "Python 3",
   "language": "python",
   "name": "python3"
  },
  "language_info": {
   "codemirror_mode": {
    "name": "ipython",
    "version": 3
   },
   "file_extension": ".py",
   "mimetype": "text/x-python",
   "name": "python",
   "nbconvert_exporter": "python",
   "pygments_lexer": "ipython3",
   "version": "3.8.6"
  }
 },
 "nbformat": 4,
 "nbformat_minor": 5
}
